{
 "cells": [
  {
   "cell_type": "markdown",
   "id": "f94c01bc",
   "metadata": {},
   "source": [
    "np.dot(N,W)+b"
   ]
  },
  {
   "cell_type": "code",
   "execution_count": null,
   "id": "f0747a94",
   "metadata": {},
   "outputs": [],
   "source": [
    "import numpy as np\n",
    "import nnfs\n",
    "from nnfs.datasets import spiral_data\n",
    "nnfs.init()\n",
    "\n",
    "X, y = spiral_data(samples=100, classes=3)\n"
   ]
  },
  {
   "cell_type": "code",
   "execution_count": 2,
   "id": "a7d272ca",
   "metadata": {},
   "outputs": [],
   "source": [
    "nnfs.init()"
   ]
  },
  {
   "cell_type": "code",
   "execution_count": 3,
   "id": "06865195",
   "metadata": {},
   "outputs": [],
   "source": [
    "X, y = spiral_data(samples=100, classes=3)"
   ]
  },
  {
   "cell_type": "code",
   "execution_count": 4,
   "id": "a001b4ad",
   "metadata": {},
   "outputs": [
    {
     "data": {
      "text/plain": [
       "((300, 2), (300,))"
      ]
     },
     "execution_count": 4,
     "metadata": {},
     "output_type": "execute_result"
    }
   ],
   "source": [
    "X.shape,y.shape"
   ]
  },
  {
   "cell_type": "code",
   "execution_count": 5,
   "id": "aad4be53",
   "metadata": {},
   "outputs": [],
   "source": [
    "class dense_layer:\n",
    "    def __init__(self, inputs,neurons):\n",
    "        self.weights= 0.01*np.random.randn(inputs,neurons)\n",
    "        self.biases=np.zeros((1,neurons))\n",
    "    def forward(self,inputs):\n",
    "        self.output=np.dot(inputs,self.weights)+self.biases\n"
   ]
  },
  {
   "cell_type": "code",
   "execution_count": 6,
   "id": "39264c27",
   "metadata": {},
   "outputs": [],
   "source": [
    "dense1=dense_layer(2,3)"
   ]
  },
  {
   "cell_type": "code",
   "execution_count": 7,
   "id": "5bc72f1f",
   "metadata": {},
   "outputs": [],
   "source": [
    "dense1.forward(X)"
   ]
  },
  {
   "cell_type": "code",
   "execution_count": 8,
   "id": "4e291280",
   "metadata": {},
   "outputs": [
    {
     "name": "stdout",
     "output_type": "stream",
     "text": [
      "\n",
      "Output of the first 5 samples:\n",
      "[[ 0.0000000e+00  0.0000000e+00  0.0000000e+00]\n",
      " [-1.0475188e-04  1.1395361e-04 -4.7983500e-05]\n",
      " [-2.7414842e-04  3.1729150e-04 -8.6921798e-05]\n",
      " [-4.2188365e-04  5.2666257e-04 -5.5912682e-05]\n",
      " [-5.7707680e-04  7.1401405e-04 -8.9430439e-05]]\n"
     ]
    }
   ],
   "source": [
    "print(\"\\nOutput of the first 5 samples:\")\n",
    "print(dense1.output[:5])"
   ]
  }
 ],
 "metadata": {
  "kernelspec": {
   "display_name": "Python 3",
   "language": "python",
   "name": "python3"
  },
  "language_info": {
   "codemirror_mode": {
    "name": "ipython",
    "version": 3
   },
   "file_extension": ".py",
   "mimetype": "text/x-python",
   "name": "python",
   "nbconvert_exporter": "python",
   "pygments_lexer": "ipython3",
   "version": "3.11.3"
  }
 },
 "nbformat": 4,
 "nbformat_minor": 5
}
