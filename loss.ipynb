{
 "cells": [
  {
   "cell_type": "markdown",
   "id": "b130fcb9",
   "metadata": {},
   "source": [
    "# Loss and cross -catagorical clas"
   ]
  },
  {
   "cell_type": "code",
   "execution_count": 1,
   "id": "b94bc19a",
   "metadata": {},
   "outputs": [],
   "source": [
    "import numpy as np"
   ]
  },
  {
   "cell_type": "code",
   "execution_count": 2,
   "id": "6aa319f0",
   "metadata": {},
   "outputs": [],
   "source": [
    "#main class\n",
    "\n",
    "class Loss:\n",
    "    #output --> model prediction (softmax prediction)\n",
    "    #y --> actual output(true_class)\n",
    "    def calculate(self,softmax_output,class_true):\n",
    "        #calculate negative log loss\n",
    "        sample_losses = self.forward(softmax_output,class_true)\n",
    "        #calculate mean loss\n",
    "        data_loss= np.mean(sample_losses)\n",
    "        return data_loss\n"
   ]
  },
  {
   "cell_type": "code",
   "execution_count": null,
   "id": "d4c45817",
   "metadata": {},
   "outputs": [],
   "source": [
    "#subclass extends the loss class-- and implements forward pass\n",
    "\n",
    "class CategoricalCrossEntropy(Loss):\n",
    "    def forward(self,softmax_output,class_true):\n",
    "        sample_size=len(class_true)\n",
    "        softmax_output=np.clip(softmax_output,1e-7,1-1e-7)\n",
    "\n",
    "# the true class is one hot encoded\n",
    "\n",
    "        if len(class_true.shape)==1:\n",
    "            #uses vectorize indexing to smartly handel the hidden operation\n",
    "\n",
    "\n",
    "#correct_confidences = [\n",
    "#y_pred_clipped[0, 0],  # 0th sample, class 0 → 0.7\n",
    "#y_pred_clipped[1, 1],  # 1st sample, class 1 → 0.8\n",
    "#y_pred_clipped[2, 2]   # 2nd sample, class 2 → 0.8\n",
    "#]\n",
    "# # Output: [0.7, 0.8, 0.8]\n",
    "           correct_confidences=softmax_output[range(sample_size),class_true]\n",
    "        elif len(class_true.shape) ==2:\n",
    "            correct_confidences=np.sum(softmax_output*class_true,axis=1)\n",
    "# correct_confidences = [\n",
    "#     0.7*1 + 0.2*0 + 0.1*0,  # = 0.7\n",
    "#     0.1*0 + 0.8*1 + 0.1*0,  # = 0.8\n",
    "#     0.05*0 + 0.15*0 + 0.8*1 # = 0.8\n",
    "# ]\n",
    "# # Output: [0.7, 0.8, 0.8]\n",
    "        negative_log_likelihood=-np.log(correct_confidences)\n",
    "        return negative_log_likelihood\n"
   ]
  },
  {
   "cell_type": "code",
   "execution_count": 4,
   "id": "4d2d7f77",
   "metadata": {},
   "outputs": [
    {
     "name": "stdout",
     "output_type": "stream",
     "text": [
      "0.26765401552238394\n"
     ]
    }
   ],
   "source": [
    "softmax_outputs = np.array([\n",
    "    [0.7, 0.2, 0.1],  # Model thinks it's 70% Dog\n",
    "    [0.1, 0.8, 0.1],  # Model thinks it's 80% Cat\n",
    "    [0.05, 0.15, 0.8] # Model thinks it's 80% Rabbit\n",
    "])\n",
    "\n",
    "class_targets = np.array([\n",
    "    [1, 0, 0],  # True label is Dog\n",
    "    [0, 1, 0],  # True label is Cat\n",
    "    [0, 0, 1]   # True label is Rabbit\n",
    "])\n",
    "\n",
    "\n",
    "loss_function=CategoricalCrossEntropy()\n",
    "loss=loss_function.calculate(softmax_outputs,class_targets)\n",
    "print(loss)"
   ]
  }
 ],
 "metadata": {
  "kernelspec": {
   "display_name": "Python 3",
   "language": "python",
   "name": "python3"
  },
  "language_info": {
   "codemirror_mode": {
    "name": "ipython",
    "version": 3
   },
   "file_extension": ".py",
   "mimetype": "text/x-python",
   "name": "python",
   "nbconvert_exporter": "python",
   "pygments_lexer": "ipython3",
   "version": "3.13.7"
  }
 },
 "nbformat": 4,
 "nbformat_minor": 5
}
