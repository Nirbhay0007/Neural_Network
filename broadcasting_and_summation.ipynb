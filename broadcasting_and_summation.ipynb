{
 "cells": [
  {
   "cell_type": "markdown",
   "id": "a70e45dc",
   "metadata": {},
   "source": [
    "## Array Summation"
   ]
  },
  {
   "cell_type": "markdown",
   "id": "422a2676",
   "metadata": {},
   "source": []
  },
  {
   "cell_type": "code",
   "execution_count": 2,
   "id": "607c2205",
   "metadata": {},
   "outputs": [],
   "source": [
    "import numpy as np"
   ]
  },
  {
   "cell_type": "code",
   "execution_count": 3,
   "id": "15e49118",
   "metadata": {},
   "outputs": [],
   "source": [
    "x=np.array([[1,2,3],\n",
    "[4,5,6],\n",
    "[7,8,9]])\n",
    "\n",
    "\n"
   ]
  },
  {
   "cell_type": "code",
   "execution_count": 4,
   "id": "3293aa39",
   "metadata": {},
   "outputs": [
    {
     "data": {
      "text/plain": [
       "45"
      ]
     },
     "execution_count": 4,
     "metadata": {},
     "output_type": "execute_result"
    }
   ],
   "source": [
    "np.sum(x)"
   ]
  },
  {
   "cell_type": "code",
   "execution_count": null,
   "id": "ba94acdb",
   "metadata": {},
   "outputs": [
    {
     "data": {
      "text/plain": [
       "array([12, 15, 18])"
      ]
     },
     "execution_count": 8,
     "metadata": {},
     "output_type": "execute_result"
    }
   ],
   "source": [
    "\n",
    "np.sum(x,axis=None)\n",
    "np.sum(x,axis=0)#summation of row"
   ]
  },
  {
   "cell_type": "code",
   "execution_count": 10,
   "id": "77337981",
   "metadata": {},
   "outputs": [
    {
     "data": {
      "text/plain": [
       "array([ 6, 15, 24])"
      ]
     },
     "execution_count": 10,
     "metadata": {},
     "output_type": "execute_result"
    }
   ],
   "source": [
    "np.sum(x,axis=1)#summation of colum"
   ]
  },
  {
   "cell_type": "code",
   "execution_count": 12,
   "id": "1b33355b",
   "metadata": {},
   "outputs": [
    {
     "data": {
      "text/plain": [
       "array([[ 6],\n",
       "       [15],\n",
       "       [24]])"
      ]
     },
     "execution_count": 12,
     "metadata": {},
     "output_type": "execute_result"
    }
   ],
   "source": [
    "np.sum(x,axis=1,keepdims=True)#summation of colum\n",
    "#also keeping the dimensions"
   ]
  },
  {
   "cell_type": "markdown",
   "id": "b2097872",
   "metadata": {},
   "source": [
    "## Array broadcasting "
   ]
  },
  {
   "cell_type": "code",
   "execution_count": null,
   "id": "ed5acd15",
   "metadata": {},
   "outputs": [],
   "source": []
  }
 ],
 "metadata": {
  "kernelspec": {
   "display_name": "Python 3",
   "language": "python",
   "name": "python3"
  },
  "language_info": {
   "codemirror_mode": {
    "name": "ipython",
    "version": 3
   },
   "file_extension": ".py",
   "mimetype": "text/x-python",
   "name": "python",
   "nbconvert_exporter": "python",
   "pygments_lexer": "ipython3",
   "version": "3.11.3"
  }
 },
 "nbformat": 4,
 "nbformat_minor": 5
}
