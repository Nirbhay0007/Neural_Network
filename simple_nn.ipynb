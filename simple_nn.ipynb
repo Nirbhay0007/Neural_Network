{
 "cells": [
  {
   "cell_type": "markdown",
   "id": "80566809",
   "metadata": {},
   "source": [
    "### neuron with 3 inputs"
   ]
  },
  {
   "cell_type": "code",
   "execution_count": 2,
   "id": "882299bc",
   "metadata": {},
   "outputs": [
    {
     "name": "stdout",
     "output_type": "stream",
     "text": [
      "2.3\n"
     ]
    }
   ],
   "source": [
    "inputs=[1,2,3]\n",
    "weights=[0.2,0.8,-0.5]\n",
    "bias=2\n",
    "sum=0\n",
    "\n",
    "for i,w in zip(inputs,weights):\n",
    "    sum+=i*w\n",
    "\n",
    "print(sum+bias)"
   ]
  },
  {
   "cell_type": "markdown",
   "id": "ee40a4e9",
   "metadata": {},
   "source": [
    "### Layers of Neurons"
   ]
  },
  {
   "cell_type": "code",
   "execution_count": 4,
   "id": "d500728b",
   "metadata": {},
   "outputs": [
    {
     "name": "stdout",
     "output_type": "stream",
     "text": [
      "neuron1 3.3\n",
      "neuron2 3.46\n",
      "neuron3 4.71\n"
     ]
    }
   ],
   "source": [
    "inputs=[1,2,3]\n",
    "\n",
    "w1=[0.2,0.8,-0.5] #: w11,w12,w13\n",
    "w2=[0.5,-0.91,0.26] #: w21,w22,w23\n",
    "w3=[-0.26,-0.27,0.17] #: w31,w32,w33\n",
    "\n",
    "\n",
    "\n",
    "b1=2\n",
    "b2=3\n",
    "b3=0.5\n",
    "\n",
    "s1=0\n",
    "s2=0\n",
    "s3=0\n",
    "\n",
    "for i,w in zip(x1,w1):\n",
    "    s1+=i*w\n",
    "\n",
    "for i,w in zip(x1,w2):\n",
    "    s2+=i*w\n",
    "\n",
    "for i,w in zip(x1,w3):\n",
    "    s3+=i*w\n",
    "\n",
    "print(\"neuron1\", s1+b1)\n",
    "print(\"neuron2\", s2+b2)\n",
    "print(\"neuron3\", s3+b3)\n"
   ]
  },
  {
   "cell_type": "code",
   "execution_count": 14,
   "id": "a90006dc",
   "metadata": {},
   "outputs": [
    {
     "name": "stdout",
     "output_type": "stream",
     "text": [
      "[2.3, 2.46, 0.20999999999999996]\n"
     ]
    }
   ],
   "source": [
    "inputs=[1,2,3]\n",
    "\n",
    "weights=  [\n",
    "    [0.2,0.8,-0.5], #: w11,w12,w13\n",
    "    [0.5,-0.91,0.26] ,#: w21,w22,w23\n",
    "    [-0.26,-0.27,0.17]] #: w31,w32,w33\n",
    "\n",
    "\n",
    "\n",
    "bias=[2,3,0.5]\n",
    "\n",
    "output_neuron=[]\n",
    "\n",
    "for weight,bias in zip(weights,bias):\n",
    "    sum=0\n",
    "    for i,w in zip(inputs,weight):\n",
    "        sum+=i*w\n",
    "    sum+=bias\n",
    "    \n",
    "    output_neuron.append(sum)\n",
    "print(output_neuron)\n",
    "\n"
   ]
  },
  {
   "cell_type": "markdown",
   "id": "0d515df0",
   "metadata": {},
   "source": [
    "## My notebook notes\n"
   ]
  },
  {
   "cell_type": "markdown",
   "id": "7b236ca0",
   "metadata": {},
   "source": [
    "![Lecture 1 Diagram](notes/lecture_1.jpg)"
   ]
  }
 ],
 "metadata": {
  "kernelspec": {
   "display_name": "Python 3",
   "language": "python",
   "name": "python3"
  },
  "language_info": {
   "codemirror_mode": {
    "name": "ipython",
    "version": 3
   },
   "file_extension": ".py",
   "mimetype": "text/x-python",
   "name": "python",
   "nbconvert_exporter": "python",
   "pygments_lexer": "ipython3",
   "version": "3.11.3"
  }
 },
 "nbformat": 4,
 "nbformat_minor": 5
}
