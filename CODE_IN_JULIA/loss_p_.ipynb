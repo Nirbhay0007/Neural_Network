{
 "cells": [
  {
   "cell_type": "code",
   "execution_count": 2,
   "id": "0c9f0a29",
   "metadata": {},
   "outputs": [
    {
     "name": "stdout",
     "output_type": "stream",
     "text": [
      "0.26765401552238394\n"
     ]
    }
   ],
   "source": [
    "using Statistics\n",
    "struct CategoricalCrossEntropy\n",
    "    y_pred::Array{Float64,2}\n",
    "    y_true::Array{Float64,2}\n",
    "end\n",
    "\n",
    "function forward(self::CategoricalCrossEntropy, softmax_outputs, class_targets)\n",
    "    class_size = size(class_targets, 1)\n",
    "    softmax_outputs = clamp.(softmax_outputs, 1e-7, 1 - 1e-7)\n",
    "\n",
    "    if length(size(class_targets)) == 1\n",
    "        prediction = softmax_outputs[collect(1:class_size), class_targets]\n",
    "    elseif length(size(class_targets)) == 2\n",
    "        prediction = sum(softmax_outputs .* class_targets, dims=2)\n",
    "    else\n",
    "        error(\"Unsupported shape for class_targets\")\n",
    "    end\n",
    "\n",
    "    negative_loss = -log.(prediction)\n",
    "    return vec(negative_loss)\n",
    "end\n",
    "\n",
    "function calculate(loss::CategoricalCrossEntropy)\n",
    "    sample_losses = forward(loss, loss.y_pred, loss.y_true)\n",
    "    return mean(sample_losses)\n",
    "end\n",
    "\n",
    "# Mock data\n",
    "softmax_outputs = [\n",
    "    0.7  0.2  0.1;\n",
    "    0.1  0.8  0.1;\n",
    "    0.05 0.15 0.8\n",
    "]\n",
    "\n",
    "class_targets = [\n",
    "    1 0 0;\n",
    "    0 1 0;\n",
    "    0 0 1\n",
    "]\n",
    "\n",
    "loss_function = CategoricalCrossEntropy(softmax_outputs, class_targets)\n",
    "loss = calculate(loss_function)\n",
    "println(loss)"
   ]
  }
 ],
 "metadata": {
  "kernelspec": {
   "display_name": "Julia 1.11.6",
   "language": "julia",
   "name": "julia-1.11"
  },
  "language_info": {
   "file_extension": ".jl",
   "mimetype": "application/julia",
   "name": "julia",
   "version": "1.11.6"
  }
 },
 "nbformat": 4,
 "nbformat_minor": 5
}
